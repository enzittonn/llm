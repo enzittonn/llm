{
 "cells": [
  {
   "cell_type": "code",
   "execution_count": 1,
   "metadata": {},
   "outputs": [],
   "source": [
    "from knowledgebase import KnowledgeBase\n",
    "from knowledgebase import (\n",
    "    DOCUMENT_SOURCE_DIRECTORY\n",
    ")\n",
    "\n",
    "# kb is here knowledge base\n",
    "kb = KnowledgeBase(\n",
    "        pdf_source_folder_path=DOCUMENT_SOURCE_DIRECTORY\n",
    ")\n",
    "\n",
    "# kb.initiate_document_injetion_pipeline()"
   ]
  },
  {
   "cell_type": "code",
   "execution_count": 2,
   "metadata": {},
   "outputs": [],
   "source": [
    "files = kb.langchain_pdf_loader()"
   ]
  },
  {
   "cell_type": "code",
   "execution_count": 3,
   "metadata": {},
   "outputs": [
    {
     "data": {
      "text/plain": [
       "72"
      ]
     },
     "execution_count": 3,
     "metadata": {},
     "output_type": "execute_result"
    }
   ],
   "source": [
    "len(files)"
   ]
  },
  {
   "cell_type": "code",
   "execution_count": 4,
   "metadata": {},
   "outputs": [
    {
     "data": {
      "text/plain": [
       "Document(page_content='3\\nFörsäkringsvillkor\\nFastighetsförsäkring\\nGrundvillkor C330:F10. Skadevärderingsregler  ....................................................................................................... 45\\n11. Skadeersättningsregler  ...................................................................................................... 45\\nIII Ansvarsförsäkring  ........................................................................................................... 46\\n1. Vem försäkringen gäller för  ................................................................................................. 46\\n2. När försäkringen gäller ........................................................................................................ 46\\n3. Var försäkringen gäller  ........................................................................................................ 46\\n4. Vad försäkringen gäller för  .................................................................................................. 47\\n5. Undantag – begränsningar  ................................................................................................... 48\\n6. Försäkringsbelopp – Högsta ersättning  ............................................................................... 49\\n7. Självrisk  .............................................................................................................................. 50\\n8. Åtgärder i samband med skada ............................................................................................ 51\\n9. Skadeersättningsregler  ........................................................................................................ 51\\nV Rättsskyddsförsäkring  .................................................................................................... 52\\nA. Tvistemål  ............................................................................................................................ 52\\nB. Skattemål  ........................................................................................................................... 54\\nC. Miljöbrott ............................................................................................................................ 54\\nD. Gemensamma bestämmelser  .............................................................................................. 55\\nVI Skadedjursförsäkring – Flerfamiljsfastigheter  ........................................................... 56\\n1. Vem försäkringen gäller för  ................................................................................................. 56\\n2. När försäkringen gäller ........................................................................................................ 56\\n3. Var försäkringen gäller  ........................................................................................................ 56\\n4. Försäkringens omfattning .................................................................................................... 57\\n5. Inspektion och försanering  .................................................................................................. 57\\n6. Sanering* av skadedjur  ....................................................................................................... 57\\n6.2 Undantag  ........................................................................................................................... 57\\n7. Skada orsakad av träskadeinsekter  ...................................................................................... 57\\n8. Skada genom sent upptäckt dödsfall  ................................................................................... 58\\n9. Gemensamma ersättningsregler  .......................................................................................... 58\\n10. Försäkringstagarens åtaganden  ......................................................................................... 58\\n11. Säkerhetsföreskrifter  ......................................................................................................... 59\\nVII Besöksolycksfall  ............................................................................................................ 59\\n1. Vem försäkringen gäller för  ................................................................................................. 59\\n2. När försäkringen gäller ........................................................................................................ 60\\n3. Var försäkringen gäller  ........................................................................................................ 60\\n4. Vad försäkringen gäller för  .................................................................................................. 60\\n5. Undantag – begränsningar samt säkerhetsföreskrifter  ........................................................ 60\\n6. Försäkringsbelopp – Högsta ersättning  ............................................................................... 60\\n7. Självrisk  .............................................................................................................................. 60\\n8. Åtgärder i samband med skada ............................................................................................ 60\\n9. Skadeersättningsregler  ........................................................................................................ 60\\nVIII Kristerapi  ........................................................................................................................ 61\\n1. Vem försäkringen gäller för  ................................................................................................. 61\\n2. När försäkringen gäller ........................................................................................................ 61\\n3. Var försäkringen gäller  ........................................................................................................ 61\\n4. Vad försäkringen gäller för  .................................................................................................. 61\\n5. Vad försäkringen inte gäller för  ........................................................................................... 61\\n6. Självrisk  .............................................................................................................................. 61\\n7. Anmälan om skada  .............................................................................................................. 61\\nIX Kompletterande försäkringar för bostadshus  ............................................................ 61\\nIX1 Skadeståndsgarantiförsäkring  .......................................................................................... 61\\nIX2 Självriskförsäkring för bostadsrättshavare/hyresgäst ....................................................... 62\\nIX3 Styrelseansvarsförsäkring för bostadsrätts föreningar  ...................................................... 62', metadata={'source': 'data/files/Fastighet.pdf', 'page': 2})"
      ]
     },
     "execution_count": 4,
     "metadata": {},
     "output_type": "execute_result"
    }
   ],
   "source": [
    "files[2]"
   ]
  },
  {
   "cell_type": "code",
   "execution_count": 5,
   "metadata": {},
   "outputs": [],
   "source": [
    "chunked_docs = kb.split_documents(files)"
   ]
  },
  {
   "cell_type": "code",
   "execution_count": 6,
   "metadata": {},
   "outputs": [
    {
     "data": {
      "text/plain": [
       "537"
      ]
     },
     "execution_count": 6,
     "metadata": {},
     "output_type": "execute_result"
    }
   ],
   "source": [
    "len(chunked_docs)"
   ]
  },
  {
   "cell_type": "code",
   "execution_count": 7,
   "metadata": {},
   "outputs": [
    {
     "data": {
      "text/plain": [
       "[Document(page_content='dataskyddsombud på dataskyddsombud@folksam.se.\\nVi kommer att spara dina personuppgifter så länge vi behöver dem för att uppfylla det ändamål \\nför vilka de samlats in. Därefter raderar vi uppgifterna.\\nDina adressuppgifter och grundläggande uppgifter om ditt avtal hanteras i ett för Folksam-  \\nföretagen gemensamt kundregister för bland annat automatiskt adressuppdatering och  \\nsamordning av företagens information och marknadsföring till dig. Vi kan även behöva', metadata={'source': 'data/files/Fastighet.pdf', 'page': 70}),\n",
       " Document(page_content='lämna ut vissa personuppgifter till återförsäkringsföretag.', metadata={'source': 'data/files/Fastighet.pdf', 'page': 70}),\n",
       " Document(page_content='72\\nFörsäkringsvillkor\\nFastighetsförsäkring\\nGrundvillkor C330:FOm uppgifterna överförs till ett land utanför EU, säkerställer vi att sådan överföring är laglig, \\nexempelvis genom att använda de standardiserade modellklausuler för dataöverföring som \\nantagits av EU-kommissionen och som finns tillgängliga på EU-kommissionens webbplats.\\nDu har rätt att få information om vilka uppgifter som vi behandlar om dig, att få felaktiga', metadata={'source': 'data/files/Fastighet.pdf', 'page': 71}),\n",
       " Document(page_content='uppgifter rättade, att begära att vi begränsar vår behandling och att dina uppgifter överförs till \\nannan part samt invända mot den behandling vi utför. Du har även rätt att inge klagomål till \\nansvarig tillsynsmyndighet.\\nLäs mer om vår hantering av personuppgifter och dina rättigheter på folksam.se/personuppgifter.\\n12. Skaderegistrering\\nVi använder oss av ett för försäkringsbranschen gemensamt skadeanmälningsregister (GSR).', metadata={'source': 'data/files/Fastighet.pdf', 'page': 71}),\n",
       " Document(page_content='Detta register innehåller vissa uppgifter om skadan samt uppgift om vem som begärt ersättning \\noch används endast i samband med skadereglering. Det innebär att vi får reda på om du tidigare \\nanmält någon skada hos annat försäkringsföretag eller myndighet som handlägger likartade \\nersättningsanspråk. Ändamålet med GSR är att tillhandahålla ett underlag till försäkringsfö -\\nretag och myndigheter som handlägger liknande ersättningsanspråk för att identifiera oklara', metadata={'source': 'data/files/Fastighet.pdf', 'page': 71}),\n",
       " Document(page_content='försäkringsfall och ersättningsanspråk. Därigenom kan företag och myndigheter motverka \\nutbetalning av ersättningar som baseras på oriktiga uppgifter. Uppgifterna kan även användas \\ni avidentifierad form för statistiska ändamål.\\nPersonuppgiftsansvarig för GSR är Skadeanmälningsregister (GSR) AB, Box 24171, 104 51 \\nStockholm. Se www.gsr.se för mer information om den behandling av uppgifter som förekommer \\ni registret.', metadata={'source': 'data/files/Fastighet.pdf', 'page': 71}),\n",
       " Document(page_content='i registret.\\nVi kan också lämna uppgifter om bland annat stölder och eftersökt gods till Larmtjänst AB, en \\nbranschgemensam organisation som arbetar för att bekämpa försäkringsrelaterad brottslighet. \\n13. Försäkringsavtalslagen med mera\\nFör denna försäkring gäller i övrigt bestämmelserna i försäkringsavtalslagen (2005:104) och \\növrig svensk rätt.', metadata={'source': 'data/files/Fastighet.pdf', 'page': 71})]"
      ]
     },
     "execution_count": 7,
     "metadata": {},
     "output_type": "execute_result"
    }
   ],
   "source": [
    "chunked_docs[530:]"
   ]
  },
  {
   "cell_type": "code",
   "execution_count": null,
   "metadata": {},
   "outputs": [],
   "source": []
  },
  {
   "cell_type": "code",
   "execution_count": 8,
   "metadata": {},
   "outputs": [
    {
     "ename": "TypeError",
     "evalue": "afrom_documents() takes 3 positional arguments but 4 were given",
     "output_type": "error",
     "traceback": [
      "\u001b[0;31m---------------------------------------------------------------------------\u001b[0m",
      "\u001b[0;31mTypeError\u001b[0m                                 Traceback (most recent call last)",
      "Cell \u001b[0;32mIn[8], line 6\u001b[0m\n\u001b[1;32m      2\u001b[0m embeddings \u001b[39m=\u001b[39m OpenAIEmbeddings()\n\u001b[1;32m      4\u001b[0m \u001b[39m# chroma_db = kb.convert_document_to_chroma_embeddings(chunked_docs=chunked_docs, embedder=embeddings)\u001b[39;00m\n\u001b[0;32m----> 6\u001b[0m faiss_db \u001b[39m=\u001b[39m kb\u001b[39m.\u001b[39;49mconvert_document_to_FAISS_embeddings(chunked_docs, embeddings)\n",
      "File \u001b[0;32m~/Documents/gpt-sw3/streamlit/knowledgebase.py:75\u001b[0m, in \u001b[0;36mKnowledgeBase.convert_document_to_FAISS_embeddings\u001b[0;34m(self, chunked_docs, embedder)\u001b[0m\n\u001b[1;32m     72\u001b[0m \u001b[39mdef\u001b[39;00m \u001b[39mconvert_document_to_FAISS_embeddings\u001b[39m(\n\u001b[1;32m     73\u001b[0m     \u001b[39mself\u001b[39m, chunked_docs, embedder\n\u001b[1;32m     74\u001b[0m ):\n\u001b[0;32m---> 75\u001b[0m     faiss_db \u001b[39m=\u001b[39m FAISS\u001b[39m.\u001b[39;49mafrom_documents(\u001b[39mself\u001b[39;49m, chunked_docs, embedder)\n\u001b[1;32m     76\u001b[0m     faiss_db\u001b[39m.\u001b[39msave_local(\u001b[39m'\u001b[39m\u001b[39mdata/faiss/faiss_index\u001b[39m\u001b[39m'\u001b[39m)\n\u001b[1;32m     78\u001b[0m     \u001b[39mreturn\u001b[39;00m faiss_db\n",
      "\u001b[0;31mTypeError\u001b[0m: afrom_documents() takes 3 positional arguments but 4 were given"
     ]
    }
   ],
   "source": [
    "from langchain.embeddings.openai import OpenAIEmbeddings\n",
    "embeddings = OpenAIEmbeddings()\n",
    "\n",
    "# chroma_db = kb.convert_document_to_chroma_embeddings(chunked_docs=chunked_docs, embedder=embeddings)\n",
    "\n",
    "faiss_db = kb.convert_document_to_FAISS_embeddings(chunked_docs, embeddings)"
   ]
  },
  {
   "cell_type": "code",
   "execution_count": null,
   "metadata": {},
   "outputs": [],
   "source": [
    "type(chroma_db)"
   ]
  },
  {
   "cell_type": "code",
   "execution_count": null,
   "metadata": {},
   "outputs": [],
   "source": [
    "print(chroma_db._collection.count())"
   ]
  },
  {
   "cell_type": "code",
   "execution_count": null,
   "metadata": {},
   "outputs": [],
   "source": [
    "question1 = 'Vilket syfte har det gemensamma skadeanmälningsregistret inom försäkringsbranschen?'\n"
   ]
  },
  {
   "cell_type": "code",
   "execution_count": null,
   "metadata": {},
   "outputs": [],
   "source": [
    "docs = chroma_db.similarity_search(question1, k=3)\n",
    "len(docs)"
   ]
  },
  {
   "cell_type": "code",
   "execution_count": null,
   "metadata": {},
   "outputs": [],
   "source": [
    "print(docs[0].page_content)"
   ]
  },
  {
   "cell_type": "code",
   "execution_count": null,
   "metadata": {},
   "outputs": [],
   "source": []
  }
 ],
 "metadata": {
  "kernelspec": {
   "display_name": ".venv",
   "language": "python",
   "name": "python3"
  },
  "language_info": {
   "codemirror_mode": {
    "name": "ipython",
    "version": 3
   },
   "file_extension": ".py",
   "mimetype": "text/x-python",
   "name": "python",
   "nbconvert_exporter": "python",
   "pygments_lexer": "ipython3",
   "version": "3.9.6"
  },
  "orig_nbformat": 4
 },
 "nbformat": 4,
 "nbformat_minor": 2
}
