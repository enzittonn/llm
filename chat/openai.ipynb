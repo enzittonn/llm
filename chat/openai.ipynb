{
 "cells": [
  {
   "cell_type": "code",
   "execution_count": 9,
   "metadata": {},
   "outputs": [],
   "source": [
    "import os\n",
    "import openai\n",
    "import sys\n",
    "sys.path.append('./')\n",
    "\n",
    "from dotenv import load_dotenv, find_dotenv\n",
    "_ = load_dotenv(find_dotenv()) # read local .env file\n",
    "\n",
    "openai.api_key  = os.environ['OPENAI_API_KEY']\n",
    "\n",
    "def get_completion(prompt, model=\"gpt-3.5-turbo\"):\n",
    "    messages = [{\"role\": \"user\", \"content\": prompt}]\n",
    "    response = openai.ChatCompletion.create(\n",
    "        model=model,\n",
    "        messages=messages,\n",
    "        temperature=0, \n",
    "    )\n",
    "    return response.choices[0].message[\"content\"]"
   ]
  },
  {
   "cell_type": "code",
   "execution_count": 10,
   "metadata": {},
   "outputs": [
    {
     "data": {
      "text/plain": [
       "'Vilket syfte har det gemensamma skadeanmälningsregistret (GSR) inom försäkringsbranschen och hur används informationen i registret?'"
      ]
     },
     "execution_count": 10,
     "metadata": {},
     "output_type": "execute_result"
    }
   ],
   "source": [
    "get_completion(\"\"\"\n",
    "               Formulera en fråga från följande paragraf: \n",
    "               Vi använder oss av ett för försäkringsbranschen gemensamt skadeanmälningsregister (GSR). \n",
    "               Detta register innehåller vissa uppgifter om skadan samt uppgift om vem som begärt ersättning och används endast i samband med skadereglering. \n",
    "               Det innebär att vi får reda på om du tidigare anmält någon skada hos annat försäkringsföretag eller myndighet som handlägger likartade ersättningsanspråk. \n",
    "               Ändamålet med GSR är att tillhandahålla ett underlag till försäkringsföretag och myndigheter som handlägger liknande ersättningsanspråk för att identifiera oklara försäkringsfall och ersättningsanspråk. \n",
    "               Därigenom kan företag och myndigheter motverka utbetalning av ersättningar som baseras på oriktiga uppgifter.\n",
    "               Uppgifterna kan även användas i avidentifierad form för statistiska ändamål.\n",
    "               \"\"\")"
   ]
  },
  {
   "attachments": {},
   "cell_type": "markdown",
   "metadata": {},
   "source": [
    "## LangChain"
   ]
  },
  {
   "attachments": {},
   "cell_type": "markdown",
   "metadata": {},
   "source": [
    "### Document loading"
   ]
  },
  {
   "cell_type": "code",
   "execution_count": 2,
   "metadata": {},
   "outputs": [],
   "source": [
    "from langchain.document_loaders import PyPDFLoader\n",
    "from langchain.document_loaders import OnlinePDFLoader\n",
    "loader = PyPDFLoader(\"../streamlit/data/files/Fastighet.pdf\")\n",
    "pages = loader.load()"
   ]
  },
  {
   "cell_type": "code",
   "execution_count": 3,
   "metadata": {},
   "outputs": [
    {
     "data": {
      "text/plain": [
       "72"
      ]
     },
     "execution_count": 3,
     "metadata": {},
     "output_type": "execute_result"
    }
   ],
   "source": [
    "len(pages)"
   ]
  },
  {
   "cell_type": "code",
   "execution_count": 4,
   "metadata": {},
   "outputs": [],
   "source": [
    "# page72 = pages[71].page_content\n",
    "page72 = pages[71]"
   ]
  },
  {
   "cell_type": "code",
   "execution_count": 5,
   "metadata": {},
   "outputs": [
    {
     "data": {
      "text/plain": [
       "{'source': '../streamlit/data/files/Fastighet.pdf', 'page': 71}"
      ]
     },
     "execution_count": 5,
     "metadata": {},
     "output_type": "execute_result"
    }
   ],
   "source": [
    "page72.metadata"
   ]
  },
  {
   "cell_type": "code",
   "execution_count": 6,
   "metadata": {},
   "outputs": [
    {
     "data": {
      "text/plain": [
       "Document(page_content='72\\nFörsäkringsvillkor\\nFastighetsförsäkring\\nGrundvillkor C330:FOm uppgifterna överförs till ett land utanför EU, säkerställer vi att sådan överföring är laglig, \\nexempelvis genom att använda de standardiserade modellklausuler för dataöverföring som \\nantagits av EU-kommissionen och som finns tillgängliga på EU-kommissionens webbplats.\\nDu har rätt att få information om vilka uppgifter som vi behandlar om dig, att få felaktiga \\nuppgifter rättade, att begära att vi begränsar vår behandling och att dina uppgifter överförs till \\nannan part samt invända mot den behandling vi utför. Du har även rätt att inge klagomål till \\nansvarig tillsynsmyndighet.\\nLäs mer om vår hantering av personuppgifter och dina rättigheter på folksam.se/personuppgifter.\\n12. Skaderegistrering\\nVi använder oss av ett för försäkringsbranschen gemensamt skadeanmälningsregister (GSR). \\nDetta register innehåller vissa uppgifter om skadan samt uppgift om vem som begärt ersättning \\noch används endast i samband med skadereglering. Det innebär att vi får reda på om du tidigare \\nanmält någon skada hos annat försäkringsföretag eller myndighet som handlägger likartade \\nersättningsanspråk. Ändamålet med GSR är att tillhandahålla ett underlag till försäkringsfö -\\nretag och myndigheter som handlägger liknande ersättningsanspråk för att identifiera oklara \\nförsäkringsfall och ersättningsanspråk. Därigenom kan företag och myndigheter motverka \\nutbetalning av ersättningar som baseras på oriktiga uppgifter. Uppgifterna kan även användas \\ni avidentifierad form för statistiska ändamål.\\nPersonuppgiftsansvarig för GSR är Skadeanmälningsregister (GSR) AB, Box 24171, 104 51 \\nStockholm. Se www.gsr.se för mer information om den behandling av uppgifter som förekommer \\ni registret.\\nVi kan också lämna uppgifter om bland annat stölder och eftersökt gods till Larmtjänst AB, en \\nbranschgemensam organisation som arbetar för att bekämpa försäkringsrelaterad brottslighet. \\n13. Försäkringsavtalslagen med mera\\nFör denna försäkring gäller i övrigt bestämmelserna i försäkringsavtalslagen (2005:104) och \\növrig svensk rätt.', metadata={'source': '../streamlit/data/files/Fastighet.pdf', 'page': 71})"
      ]
     },
     "execution_count": 6,
     "metadata": {},
     "output_type": "execute_result"
    }
   ],
   "source": [
    "page72"
   ]
  },
  {
   "attachments": {},
   "cell_type": "markdown",
   "metadata": {},
   "source": [
    "### Split"
   ]
  },
  {
   "cell_type": "code",
   "execution_count": 7,
   "metadata": {},
   "outputs": [],
   "source": [
    "from langchain.text_splitter import RecursiveCharacterTextSplitter, CharacterTextSplitter"
   ]
  },
  {
   "cell_type": "code",
   "execution_count": 8,
   "metadata": {},
   "outputs": [],
   "source": [
    "chunk_size = 950\n",
    "chunk_overlap = 50"
   ]
  },
  {
   "cell_type": "code",
   "execution_count": 9,
   "metadata": {},
   "outputs": [],
   "source": [
    "c_splitter = CharacterTextSplitter(\n",
    "    chunk_size=chunk_size,\n",
    "    chunk_overlap=chunk_overlap,\n",
    "    separator = \"\\n\"\n",
    ")\n",
    "r_splitter = RecursiveCharacterTextSplitter(\n",
    "    chunk_size=chunk_size,\n",
    "    chunk_overlap=chunk_overlap, \n",
    "    separators=[\"\\n\"]\n",
    "    # separators=[\"\\\\n\", \" \\n\", \" \", \"\"]\n",
    ")"
   ]
  },
  {
   "cell_type": "code",
   "execution_count": 10,
   "metadata": {},
   "outputs": [
    {
     "data": {
      "text/plain": [
       "[Document(page_content='72\\nFörsäkringsvillkor\\nFastighetsförsäkring\\nGrundvillkor C330:FOm uppgifterna överförs till ett land utanför EU, säkerställer vi att sådan överföring är laglig, \\nexempelvis genom att använda de standardiserade modellklausuler för dataöverföring som \\nantagits av EU-kommissionen och som finns tillgängliga på EU-kommissionens webbplats.\\nDu har rätt att få information om vilka uppgifter som vi behandlar om dig, att få felaktiga \\nuppgifter rättade, att begära att vi begränsar vår behandling och att dina uppgifter överförs till \\nannan part samt invända mot den behandling vi utför. Du har även rätt att inge klagomål till \\nansvarig tillsynsmyndighet.\\nLäs mer om vår hantering av personuppgifter och dina rättigheter på folksam.se/personuppgifter.\\n12. Skaderegistrering\\nVi använder oss av ett för försäkringsbranschen gemensamt skadeanmälningsregister (GSR).', metadata={'source': '../streamlit/data/files/Fastighet.pdf', 'page': 71}),\n",
       " Document(page_content='Detta register innehåller vissa uppgifter om skadan samt uppgift om vem som begärt ersättning \\noch används endast i samband med skadereglering. Det innebär att vi får reda på om du tidigare \\nanmält någon skada hos annat försäkringsföretag eller myndighet som handlägger likartade \\nersättningsanspråk. Ändamålet med GSR är att tillhandahålla ett underlag till försäkringsfö -\\nretag och myndigheter som handlägger liknande ersättningsanspråk för att identifiera oklara \\nförsäkringsfall och ersättningsanspråk. Därigenom kan företag och myndigheter motverka \\nutbetalning av ersättningar som baseras på oriktiga uppgifter. Uppgifterna kan även användas \\ni avidentifierad form för statistiska ändamål.\\nPersonuppgiftsansvarig för GSR är Skadeanmälningsregister (GSR) AB, Box 24171, 104 51 \\nStockholm. Se www.gsr.se för mer information om den behandling av uppgifter som förekommer \\ni registret.', metadata={'source': '../streamlit/data/files/Fastighet.pdf', 'page': 71}),\n",
       " Document(page_content='i registret.\\nVi kan också lämna uppgifter om bland annat stölder och eftersökt gods till Larmtjänst AB, en \\nbranschgemensam organisation som arbetar för att bekämpa försäkringsrelaterad brottslighet. \\n13. Försäkringsavtalslagen med mera\\nFör denna försäkring gäller i övrigt bestämmelserna i försäkringsavtalslagen (2005:104) och \\növrig svensk rätt.', metadata={'source': '../streamlit/data/files/Fastighet.pdf', 'page': 71})]"
      ]
     },
     "execution_count": 10,
     "metadata": {},
     "output_type": "execute_result"
    }
   ],
   "source": [
    "c_split = c_splitter.split_documents(pages)\n",
    "len(c_split)\n",
    "c_split[279:]"
   ]
  },
  {
   "cell_type": "code",
   "execution_count": 11,
   "metadata": {},
   "outputs": [
    {
     "data": {
      "text/plain": [
       "[Document(page_content='72\\nFörsäkringsvillkor\\nFastighetsförsäkring\\nGrundvillkor C330:FOm uppgifterna överförs till ett land utanför EU, säkerställer vi att sådan överföring är laglig, \\nexempelvis genom att använda de standardiserade modellklausuler för dataöverföring som \\nantagits av EU-kommissionen och som finns tillgängliga på EU-kommissionens webbplats.\\nDu har rätt att få information om vilka uppgifter som vi behandlar om dig, att få felaktiga \\nuppgifter rättade, att begära att vi begränsar vår behandling och att dina uppgifter överförs till \\nannan part samt invända mot den behandling vi utför. Du har även rätt att inge klagomål till \\nansvarig tillsynsmyndighet.\\nLäs mer om vår hantering av personuppgifter och dina rättigheter på folksam.se/personuppgifter.\\n12. Skaderegistrering\\nVi använder oss av ett för försäkringsbranschen gemensamt skadeanmälningsregister (GSR).', metadata={'source': '../streamlit/data/files/Fastighet.pdf', 'page': 71}),\n",
       " Document(page_content='Detta register innehåller vissa uppgifter om skadan samt uppgift om vem som begärt ersättning \\noch används endast i samband med skadereglering. Det innebär att vi får reda på om du tidigare \\nanmält någon skada hos annat försäkringsföretag eller myndighet som handlägger likartade \\nersättningsanspråk. Ändamålet med GSR är att tillhandahålla ett underlag till försäkringsfö -\\nretag och myndigheter som handlägger liknande ersättningsanspråk för att identifiera oklara \\nförsäkringsfall och ersättningsanspråk. Därigenom kan företag och myndigheter motverka \\nutbetalning av ersättningar som baseras på oriktiga uppgifter. Uppgifterna kan även användas \\ni avidentifierad form för statistiska ändamål.\\nPersonuppgiftsansvarig för GSR är Skadeanmälningsregister (GSR) AB, Box 24171, 104 51 \\nStockholm. Se www.gsr.se för mer information om den behandling av uppgifter som förekommer \\ni registret.', metadata={'source': '../streamlit/data/files/Fastighet.pdf', 'page': 71}),\n",
       " Document(page_content='i registret.\\nVi kan också lämna uppgifter om bland annat stölder och eftersökt gods till Larmtjänst AB, en \\nbranschgemensam organisation som arbetar för att bekämpa försäkringsrelaterad brottslighet. \\n13. Försäkringsavtalslagen med mera\\nFör denna försäkring gäller i övrigt bestämmelserna i försäkringsavtalslagen (2005:104) och \\növrig svensk rätt.', metadata={'source': '../streamlit/data/files/Fastighet.pdf', 'page': 71})]"
      ]
     },
     "execution_count": 11,
     "metadata": {},
     "output_type": "execute_result"
    }
   ],
   "source": [
    "r_split = r_splitter.split_documents(pages)\n",
    "len(r_split)\n",
    "r_split[279:]"
   ]
  },
  {
   "attachments": {},
   "cell_type": "markdown",
   "metadata": {},
   "source": [
    "### Embedding"
   ]
  },
  {
   "cell_type": "code",
   "execution_count": 12,
   "metadata": {},
   "outputs": [],
   "source": [
    "from langchain.embeddings.openai import OpenAIEmbeddings\n",
    "from langchain.vectorstores import Chroma\n",
    "\n",
    "persist_directory = \"data/chroma\"\n",
    "embedding = OpenAIEmbeddings()"
   ]
  },
  {
   "cell_type": "code",
   "execution_count": 13,
   "metadata": {},
   "outputs": [],
   "source": [
    "!rm -rf ./docs/chroma/ # remove old database files if any"
   ]
  },
  {
   "cell_type": "code",
   "execution_count": 14,
   "metadata": {},
   "outputs": [
    {
     "name": "stdout",
     "output_type": "stream",
     "text": [
      "<bound method Collection.count of Collection(name=langchain)>\n"
     ]
    }
   ],
   "source": [
    "vectordb = Chroma.from_documents(\n",
    "    documents=c_split,\n",
    "    embedding=embedding,\n",
    "    persist_directory=persist_directory\n",
    ")\n",
    "\n",
    "print(vectordb._collection.count)"
   ]
  },
  {
   "cell_type": "code",
   "execution_count": 24,
   "metadata": {},
   "outputs": [],
   "source": [
    "question1 = 'Vilket syfte har det gemensamma skadeanmälningsregistret inom försäkringsbranschen?'\n",
    "question2 = 'Vad är undantaget för försäkring av rån?'"
   ]
  },
  {
   "cell_type": "code",
   "execution_count": 25,
   "metadata": {},
   "outputs": [
    {
     "data": {
      "text/plain": [
       "3"
      ]
     },
     "execution_count": 25,
     "metadata": {},
     "output_type": "execute_result"
    }
   ],
   "source": [
    "docs = vectordb.similarity_search(question1, k=3)\n",
    "len(docs)"
   ]
  },
  {
   "cell_type": "code",
   "execution_count": 26,
   "metadata": {},
   "outputs": [
    {
     "name": "stdout",
     "output_type": "stream",
     "text": [
      "Detta register innehåller vissa uppgifter om skadan samt uppgift om vem som begärt ersättning \n",
      "och används endast i samband med skadereglering. Det innebär att vi får reda på om du tidigare \n",
      "anmält någon skada hos annat försäkringsföretag eller myndighet som handlägger likartade \n",
      "ersättningsanspråk. Ändamålet med GSR är att tillhandahålla ett underlag till försäkringsfö -\n",
      "retag och myndigheter som handlägger liknande ersättningsanspråk för att identifiera oklara \n",
      "försäkringsfall och ersättningsanspråk. Därigenom kan företag och myndigheter motverka \n",
      "utbetalning av ersättningar som baseras på oriktiga uppgifter. Uppgifterna kan även användas \n",
      "i avidentifierad form för statistiska ändamål.\n",
      "Personuppgiftsansvarig för GSR är Skadeanmälningsregister (GSR) AB, Box 24171, 104 51 \n",
      "Stockholm. Se www.gsr.se för mer information om den behandling av uppgifter som förekommer \n",
      "i registret.\n"
     ]
    }
   ],
   "source": [
    "print(docs[0].page_content)"
   ]
  },
  {
   "cell_type": "code",
   "execution_count": 27,
   "metadata": {},
   "outputs": [
    {
     "name": "stdout",
     "output_type": "stream",
     "text": [
      "i registret.\n",
      "Vi kan också lämna uppgifter om bland annat stölder och eftersökt gods till Larmtjänst AB, en \n",
      "branschgemensam organisation som arbetar för att bekämpa försäkringsrelaterad brottslighet. \n",
      "13. Försäkringsavtalslagen med mera\n",
      "För denna försäkring gäller i övrigt bestämmelserna i försäkringsavtalslagen (2005:104) och \n",
      "övrig svensk rätt.\n"
     ]
    }
   ],
   "source": [
    "print(docs[1].page_content)"
   ]
  },
  {
   "cell_type": "code",
   "execution_count": 28,
   "metadata": {},
   "outputs": [
    {
     "name": "stdout",
     "output_type": "stream",
     "text": [
      "72\n",
      "Försäkringsvillkor\n",
      "Fastighetsförsäkring\n",
      "Grundvillkor C330:FOm uppgifterna överförs till ett land utanför EU, säkerställer vi att sådan överföring är laglig, \n",
      "exempelvis genom att använda de standardiserade modellklausuler för dataöverföring som \n",
      "antagits av EU-kommissionen och som finns tillgängliga på EU-kommissionens webbplats.\n",
      "Du har rätt att få information om vilka uppgifter som vi behandlar om dig, att få felaktiga \n",
      "uppgifter rättade, att begära att vi begränsar vår behandling och att dina uppgifter överförs till \n",
      "annan part samt invända mot den behandling vi utför. Du har även rätt att inge klagomål till \n",
      "ansvarig tillsynsmyndighet.\n",
      "Läs mer om vår hantering av personuppgifter och dina rättigheter på folksam.se/personuppgifter.\n",
      "12. Skaderegistrering\n",
      "Vi använder oss av ett för försäkringsbranschen gemensamt skadeanmälningsregister (GSR).\n"
     ]
    }
   ],
   "source": [
    "print(docs[2].page_content)"
   ]
  },
  {
   "cell_type": "code",
   "execution_count": 29,
   "metadata": {},
   "outputs": [],
   "source": [
    "# Persist Chroma VectorDB\n",
    "vectordb.persist()"
   ]
  },
  {
   "attachments": {},
   "cell_type": "markdown",
   "metadata": {},
   "source": [
    "### Retrieve"
   ]
  },
  {
   "cell_type": "code",
   "execution_count": 30,
   "metadata": {},
   "outputs": [
    {
     "data": {
      "text/plain": [
       "3"
      ]
     },
     "execution_count": 30,
     "metadata": {},
     "output_type": "execute_result"
    }
   ],
   "source": [
    "# Retrieval methods -> MMR to enfore diversity in the search result\n",
    "q2_mmr = vectordb.max_marginal_relevance_search(question2, k=3, fetch_k=5)\n",
    "len(q2_mmr)\n",
    "\n",
    "# q2_similiarity = vectordb.similarity_search(question2, k=3)\n",
    "# len(q2_similiarity)"
   ]
  },
  {
   "cell_type": "code",
   "execution_count": 31,
   "metadata": {},
   "outputs": [],
   "source": [
    "# TODO\n",
    "# Try different retrievers\n",
    "# TF-IDF\n",
    "# SVM\n",
    "# SelfQuery\n",
    "# ContextualCompression"
   ]
  },
  {
   "attachments": {},
   "cell_type": "markdown",
   "metadata": {},
   "source": [
    "### Chat"
   ]
  },
  {
   "cell_type": "code",
   "execution_count": 32,
   "metadata": {},
   "outputs": [],
   "source": [
    "question = \"Vilka skadehändelser täcker egendomsförsäkringen?\""
   ]
  },
  {
   "cell_type": "code",
   "execution_count": 33,
   "metadata": {},
   "outputs": [
    {
     "data": {
      "text/plain": [
       "282"
      ]
     },
     "execution_count": 33,
     "metadata": {},
     "output_type": "execute_result"
    }
   ],
   "source": [
    "vectordb._collection.count()"
   ]
  },
  {
   "cell_type": "code",
   "execution_count": 34,
   "metadata": {},
   "outputs": [
    {
     "data": {
      "text/plain": [
       "3"
      ]
     },
     "execution_count": 34,
     "metadata": {},
     "output_type": "execute_result"
    }
   ],
   "source": [
    "docs = vectordb.similarity_search(question, k=3)\n",
    "len(docs)"
   ]
  },
  {
   "cell_type": "code",
   "execution_count": 35,
   "metadata": {},
   "outputs": [],
   "source": [
    "from langchain.chat_models import ChatOpenAI\n",
    "llm = ChatOpenAI(model_name='gpt-3.5-turbo', temperature=0)"
   ]
  },
  {
   "cell_type": "code",
   "execution_count": 36,
   "metadata": {},
   "outputs": [],
   "source": [
    "from langchain.chains import RetrievalQA"
   ]
  },
  {
   "cell_type": "code",
   "execution_count": 37,
   "metadata": {},
   "outputs": [],
   "source": [
    "qa_chain = RetrievalQA.from_chain_type(\n",
    "    llm,\n",
    "    retriever=vectordb.as_retriever()\n",
    ")"
   ]
  },
  {
   "cell_type": "code",
   "execution_count": 38,
   "metadata": {},
   "outputs": [
    {
     "name": "stdout",
     "output_type": "stream",
     "text": [
      "Egendomsförsäkringen täcker skadehändelser som inträffar i samband med egendomsskada, såsom skador på försäkrad egendom vid räddningsåtgärder, förlust eller stöld av egendom. Den täcker också skador orsakade av den försäkrade och dess arbetstagare i tjänsten. Vidare täcker försäkringen ansvar för fastighet om den försäkrade är ägare till fastigheten eller brukare av fastigheten och har övertagit fastighetsägaransvaret enligt avtal. Byggnads- och anläggningsarbeten på fastigheten omfattas också av försäkringen, om kostnaderna för detta inte överstiger 20 basbelopp.\n"
     ]
    }
   ],
   "source": [
    "result = qa_chain({\"query\": question})\n",
    "print(result['result'])"
   ]
  },
  {
   "attachments": {},
   "cell_type": "markdown",
   "metadata": {},
   "source": [
    "### Prompt"
   ]
  },
  {
   "cell_type": "code",
   "execution_count": 39,
   "metadata": {},
   "outputs": [],
   "source": [
    "from langchain.prompts import PromptTemplate\n",
    "\n",
    "# Build prompt\n",
    "template = \"\"\"Använd följande delar av sammanhanget för att svara på frågan i slutet. Om du inte vet svaret, säg bara att du inte vet, försök inte hitta på ett svar. Använd maximalt tre meningar. Håll svaret så kortfattat och enkelt att förstå. \n",
    "{context}\n",
    "Fråga: {question}\n",
    "Svar:\"\"\"\n",
    "QA_CHAIN_PROMPT = PromptTemplate.from_template(template)\n"
   ]
  },
  {
   "cell_type": "code",
   "execution_count": 40,
   "metadata": {},
   "outputs": [],
   "source": [
    "# Run chain\n",
    "qa_chain = RetrievalQA.from_chain_type(\n",
    "    llm,\n",
    "    retriever=vectordb.as_retriever(),\n",
    "    return_source_documents=True,\n",
    "    chain_type_kwargs={\"prompt\": QA_CHAIN_PROMPT}\n",
    ")"
   ]
  },
  {
   "cell_type": "code",
   "execution_count": 41,
   "metadata": {},
   "outputs": [
    {
     "name": "stdout",
     "output_type": "stream",
     "text": [
      "Det framgår inte av det givna sammanhanget vad självrisken är för besöksolycksfall.\n"
     ]
    }
   ],
   "source": [
    "question = \"Hur mycket är självrisk för besöksolycksfall?\"\n",
    "result = qa_chain({\"query\": question})\n",
    "print(result['result'])"
   ]
  },
  {
   "cell_type": "code",
   "execution_count": 42,
   "metadata": {},
   "outputs": [
    {
     "data": {
      "text/plain": [
       "Document(page_content='10.3.4 Särskild självrisk  – Skada genom tätskikt\\nSjälvrisken är 0,5 basbelopp utöver annars gällande självrisk vid skada på byggnad genom \\nläckage från\\n• golv- eller väggtätskikt eller vid dess anslutning till installationer eller övriga byggnadsdelar\\n10.3.5 Särskild självrisk – Skada på grund av åldersförändring\\nSjälvrisken är 1 basbelopp utöver annars gällande självrisk vid skada på byggnad genom \\nläckage från\\n• installationer, om läckaget orsakats av åldersförändringar (till exempel korrosion eller för -\\nslitning) och installationens ålder är mindre än 50 år. För installation som är 50 år eller äldre \\ngäller istället en utökad självrisk med 3 basbelopp utöver annars gällande självrisk.\\n10.3.6 Särskild självrisk – Skada genom frysning \\nSjälvrisken är ett basbelopp utöver annars gällande självrisk, vid skada på byggnad genom \\nfrysning. \\n10.4 Inbrottsförsäkring \\nInbrottsförsäkringen omfattar skadehändelser enligt 10.4.2 – 10.4.6 nedan.', metadata={'page': 16, 'source': '../data/Fastighet.pdf'})"
      ]
     },
     "execution_count": 42,
     "metadata": {},
     "output_type": "execute_result"
    }
   ],
   "source": [
    "result[\"source_documents\"][0]"
   ]
  },
  {
   "cell_type": "code",
   "execution_count": 43,
   "metadata": {},
   "outputs": [
    {
     "name": "stdout",
     "output_type": "stream",
     "text": [
      "Det finns ingen information om självrisk för besöksolycksfall i den givna texten.\n"
     ]
    }
   ],
   "source": [
    "qa_chain_mr = RetrievalQA.from_chain_type(\n",
    "    llm,\n",
    "    retriever=vectordb.as_retriever(),\n",
    "    chain_type=\"map_reduce\"\n",
    ")\n",
    "result = qa_chain_mr({\"query\": question})\n",
    "print(result['result'])"
   ]
  },
  {
   "attachments": {},
   "cell_type": "markdown",
   "metadata": {},
   "source": [
    "### Memory"
   ]
  },
  {
   "cell_type": "code",
   "execution_count": 44,
   "metadata": {},
   "outputs": [],
   "source": [
    "from langchain.memory import ConversationBufferMemory\n",
    "memory = ConversationBufferMemory(\n",
    "    memory_key=\"chat_history\",\n",
    "    return_messages=True\n",
    ")"
   ]
  },
  {
   "cell_type": "code",
   "execution_count": 45,
   "metadata": {},
   "outputs": [],
   "source": [
    "from langchain.chains import ConversationalRetrievalChain\n",
    "retriever=vectordb.as_retriever()\n",
    "qa = ConversationalRetrievalChain.from_llm(\n",
    "    llm,\n",
    "    retriever=retriever,\n",
    "    memory=memory\n",
    ")"
   ]
  },
  {
   "cell_type": "code",
   "execution_count": 46,
   "metadata": {},
   "outputs": [
    {
     "name": "stdout",
     "output_type": "stream",
     "text": [
      "Dokumentet handlar om försäkringsvillkor för fastighetsförsäkring. Det innehåller information om olika typer av försäkringsvillkor, vad som omfattas av försäkringen, självrisk, skattemål och annan relevant information.\n"
     ]
    }
   ],
   "source": [
    "question = \"Vad handlar det dokumentet om?\"\n",
    "result = qa({\"question\": question})\n",
    "\n",
    "print(result['answer'])"
   ]
  },
  {
   "cell_type": "code",
   "execution_count": 47,
   "metadata": {},
   "outputs": [
    {
     "name": "stdout",
     "output_type": "stream",
     "text": [
      "Ja, hyresgästen täcks av denna fastighetsförsäkring om de är boende i den försäkrade fastigheten och har en giltig hemförsäkring.\n"
     ]
    }
   ],
   "source": [
    "question = \"Är hyresgäst täckes av denna fastighetsförsäkring?\"\n",
    "result = qa({\"question\": question})\n",
    "\n",
    "print(result['answer'])"
   ]
  },
  {
   "cell_type": "code",
   "execution_count": 48,
   "metadata": {},
   "outputs": [
    {
     "name": "stdout",
     "output_type": "stream",
     "text": [
      "Jag vet inte.\n"
     ]
    }
   ],
   "source": [
    "question = \"Vad är självrisken för hemförsäkring?\"\n",
    "result = qa({\"question\": question})\n",
    "\n",
    "print(result['answer'])"
   ]
  },
  {
   "cell_type": "code",
   "execution_count": 49,
   "metadata": {},
   "outputs": [
    {
     "name": "stdout",
     "output_type": "stream",
     "text": [
      "Dokumentet handlar om försäkringsbolaget Folksam Ömsesidig Sakförsäkring.\n"
     ]
    }
   ],
   "source": [
    "question = \"Vilken företag handlar detta dokument om?\"\n",
    "result = qa({\"question\": question})\n",
    "\n",
    "print(result['answer'])"
   ]
  },
  {
   "cell_type": "code",
   "execution_count": 50,
   "metadata": {},
   "outputs": [
    {
     "name": "stdout",
     "output_type": "stream",
     "text": [
      "Det framgår inte tydligt om rättsskydd ingår i denna försäkring. Du bör kontrollera försäkringsbrevet eller kontakta försäkringsbolaget för att få mer information om detta.\n"
     ]
    }
   ],
   "source": [
    "question = \"Ingår rättsskydd i denna försäkring?\"\n",
    "result = qa({\"question\": question})\n",
    "\n",
    "print(result['answer'])"
   ]
  },
  {
   "cell_type": "code",
   "execution_count": 51,
   "metadata": {},
   "outputs": [
    {
     "data": {
      "text/plain": [
       "{'question': 'Ingår rättsskydd i denna försäkring?',\n",
       " 'chat_history': [HumanMessage(content='Vad handlar det dokumentet om?', additional_kwargs={}, example=False),\n",
       "  AIMessage(content='Dokumentet handlar om försäkringsvillkor för fastighetsförsäkring. Det innehåller information om olika typer av försäkringsvillkor, vad som omfattas av försäkringen, självrisk, skattemål och annan relevant information.', additional_kwargs={}, example=False),\n",
       "  HumanMessage(content='Är hyresgäst täckes av denna fastighetsförsäkring?', additional_kwargs={}, example=False),\n",
       "  AIMessage(content='Ja, hyresgästen täcks av denna fastighetsförsäkring om de är boende i den försäkrade fastigheten och har en giltig hemförsäkring.', additional_kwargs={}, example=False),\n",
       "  HumanMessage(content='Vad är självrisken för hemförsäkring?', additional_kwargs={}, example=False),\n",
       "  AIMessage(content='Jag vet inte.', additional_kwargs={}, example=False),\n",
       "  HumanMessage(content='Vilken företag handlar detta dokument om?', additional_kwargs={}, example=False),\n",
       "  AIMessage(content='Dokumentet handlar om försäkringsbolaget Folksam Ömsesidig Sakförsäkring.', additional_kwargs={}, example=False),\n",
       "  HumanMessage(content='Ingår rättsskydd i denna försäkring?', additional_kwargs={}, example=False),\n",
       "  AIMessage(content='Det framgår inte tydligt om rättsskydd ingår i denna försäkring. Du bör kontrollera försäkringsbrevet eller kontakta försäkringsbolaget för att få mer information om detta.', additional_kwargs={}, example=False)],\n",
       " 'answer': 'Det framgår inte tydligt om rättsskydd ingår i denna försäkring. Du bör kontrollera försäkringsbrevet eller kontakta försäkringsbolaget för att få mer information om detta.'}"
      ]
     },
     "execution_count": 51,
     "metadata": {},
     "output_type": "execute_result"
    }
   ],
   "source": [
    "result"
   ]
  },
  {
   "cell_type": "code",
   "execution_count": null,
   "metadata": {},
   "outputs": [],
   "source": []
  }
 ],
 "metadata": {
  "kernelspec": {
   "display_name": ".venv",
   "language": "python",
   "name": "python3"
  },
  "language_info": {
   "codemirror_mode": {
    "name": "ipython",
    "version": 3
   },
   "file_extension": ".py",
   "mimetype": "text/x-python",
   "name": "python",
   "nbconvert_exporter": "python",
   "pygments_lexer": "ipython3",
   "version": "3.9.6"
  },
  "orig_nbformat": 4
 },
 "nbformat": 4,
 "nbformat_minor": 2
}
